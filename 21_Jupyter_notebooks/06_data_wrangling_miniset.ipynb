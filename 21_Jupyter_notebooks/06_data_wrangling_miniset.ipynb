{
 "cells": [
  {
   "cell_type": "markdown",
   "metadata": {},
   "source": [
    "# Import dependencies and determine working directory"
   ]
  },
  {
   "cell_type": "code",
   "execution_count": 1,
   "metadata": {
    "collapsed": true
   },
   "outputs": [],
   "source": [
    "# Import libraries\n",
    "import numpy as np\n",
    "from os import path\n",
    "import cv2\n",
    "import pandas as pd\n",
    "from sklearn.model_selection import train_test_split\n",
    "from sklearn.externals import joblib"
   ]
  },
  {
   "cell_type": "code",
   "execution_count": 2,
   "metadata": {
    "collapsed": true
   },
   "outputs": [],
   "source": [
    "# get current directory\n",
    "dir = path.dirname(path.abspath('__file__'))"
   ]
  },
  {
   "cell_type": "markdown",
   "metadata": {},
   "source": [
    "# Load processed dataframe"
   ]
  },
  {
   "cell_type": "code",
   "execution_count": 3,
   "metadata": {
    "collapsed": true
   },
   "outputs": [],
   "source": [
    "# Load df from a csv\n",
    "processed_image_csv_path = path.join('..' ,'04_processed_data','processed_images.csv')\n",
    "df = pd.read_csv(processed_image_csv_path, index_col = False)\n",
    "df['emotion'] = df['emotion'].astype('category')"
   ]
  },
  {
   "cell_type": "code",
   "execution_count": 4,
   "metadata": {
    "collapsed": true
   },
   "outputs": [],
   "source": [
    "# Get number of unique sequences\n",
    "unique_sequences = df.drop_duplicates(subset=['sequence'])"
   ]
  },
  {
   "cell_type": "code",
   "execution_count": 5,
   "metadata": {
    "collapsed": true
   },
   "outputs": [],
   "source": [
    "# define function to create a dictionary of images for sequences\n",
    "def create_max_images_in_sequence_dict(df, unique_sequences):\n",
    "    max_images_dict = {}\n",
    "    for sequence in unique_sequences.sequence: \n",
    "        max_image = max(df[df.sequence == sequence].image_number)\n",
    "        max_images_dict[sequence] = max_image\n",
    "    return max_images_dict\n",
    "\n",
    "# define function to match images in sequence to image\n",
    "def label_max_images(df, unique_sequences): \n",
    "    max_images_dict = create_max_images_in_sequence_dict(df, unique_sequences)\n",
    "    df['max_images'] = df['sequence'].map(max_images_dict)\n",
    "    return df"
   ]
  },
  {
   "cell_type": "code",
   "execution_count": 6,
   "metadata": {
    "collapsed": true
   },
   "outputs": [],
   "source": [
    "# create new column of max_images in df\n",
    "df = label_max_images(df, unique_sequences)"
   ]
  },
  {
   "cell_type": "code",
   "execution_count": 7,
   "metadata": {
    "collapsed": true
   },
   "outputs": [],
   "source": [
    "# Find Neutral images - first 2 images in sequence\n",
    "neutral_filter = df.image_number <= 2\n",
    "\n",
    "# Find Expressive images - last 2 images in sequence\n",
    "non_neutral_filter = df.image_number >= (df.max_images-1)"
   ]
  },
  {
   "cell_type": "code",
   "execution_count": 8,
   "metadata": {
    "collapsed": true
   },
   "outputs": [],
   "source": [
    "mini_df = df[neutral_filter | non_neutral_filter]"
   ]
  },
  {
   "cell_type": "markdown",
   "metadata": {
    "collapsed": true
   },
   "source": [
    "# Split train and test data"
   ]
  },
  {
   "cell_type": "code",
   "execution_count": 9,
   "metadata": {
    "collapsed": true
   },
   "outputs": [],
   "source": [
    "# Split train and test data by sequences instead of images\n",
    "sequence_train, sequence_test, _ , _ = train_test_split(unique_sequences.sequence, unique_sequences.emotion, test_size = 0.1, random_state = 42)"
   ]
  },
  {
   "cell_type": "code",
   "execution_count": 10,
   "metadata": {
    "collapsed": true
   },
   "outputs": [],
   "source": [
    "# Filter dataframe into test and train\n",
    "mini_df_train = mini_df[mini_df.sequence.isin(sequence_train)]\n",
    "mini_df_test = mini_df[mini_df.sequence.isin(sequence_test)]"
   ]
  },
  {
   "cell_type": "code",
   "execution_count": 12,
   "metadata": {},
   "outputs": [
    {
     "name": "stdout",
     "output_type": "stream",
     "text": [
      "Number of images in training set: 1176\n",
      "0    588\n",
      "7    154\n",
      "5    124\n",
      "3    106\n",
      "1     80\n",
      "6     48\n",
      "4     44\n",
      "2     32\n",
      "Name: emotion, dtype: int64\n",
      "Number of images in test set: 132\n",
      "0    66\n",
      "5    14\n",
      "7    12\n",
      "3    12\n",
      "1    10\n",
      "6     8\n",
      "4     6\n",
      "2     4\n",
      "Name: emotion, dtype: int64\n"
     ]
    }
   ],
   "source": [
    "# Split info into test and train series\n",
    "mini_X_train = mini_df_train.processed_image_path\n",
    "mini_X_test = mini_df_test.processed_image_path\n",
    "mini_y_train = mini_df_train.emotion\n",
    "mini_y_test = mini_df_test.emotion\n",
    "mini_sequence_test =  mini_df_test.sequence\n",
    "print('Number of images in training set:', len(mini_X_train) )\n",
    "print(mini_y_train.value_counts())\n",
    "print('Number of images in test set:', len(mini_X_test) )\n",
    "print(mini_y_test.value_counts())"
   ]
  },
  {
   "cell_type": "markdown",
   "metadata": {},
   "source": [
    "# Import and flatten image data "
   ]
  },
  {
   "cell_type": "code",
   "execution_count": 13,
   "metadata": {
    "collapsed": true
   },
   "outputs": [],
   "source": [
    "def flattened_image_data(image_paths):\n",
    "    images_data = []\n",
    "    for image_path in image_paths:\n",
    "        image = cv2.cvtColor(cv2.imread(image_path), cv2.COLOR_BGR2GRAY).flatten()\n",
    "        images_data.append(image)\n",
    "    images_data = np.array(images_data).astype(np.uint8)\n",
    "    print(images_data.shape)\n",
    "    return images_data"
   ]
  },
  {
   "cell_type": "code",
   "execution_count": 14,
   "metadata": {},
   "outputs": [
    {
     "name": "stdout",
     "output_type": "stream",
     "text": [
      "(1176, 16384)\n",
      "(132, 16384)\n"
     ]
    }
   ],
   "source": [
    "mini_images_train = flattened_image_data(mini_X_train)\n",
    "mini_images_test = flattened_image_data(mini_X_test)"
   ]
  },
  {
   "cell_type": "markdown",
   "metadata": {},
   "source": [
    "# Save data files"
   ]
  },
  {
   "cell_type": "code",
   "execution_count": 17,
   "metadata": {},
   "outputs": [
    {
     "data": {
      "text/plain": [
       "['../04_processed_data/mini_sequence_test.pkl']"
      ]
     },
     "execution_count": 17,
     "metadata": {},
     "output_type": "execute_result"
    }
   ],
   "source": [
    "# Save training and test data  \n",
    "filename_out__mini_images_train = path.join('..', '04_processed_data','mini_images_train.pkl')\n",
    "filename_out__mini_images_test = path.join('..', '04_processed_data','mini_images_test.pkl')\n",
    "filename_out__mini_emotions_train = path.join('..', '04_processed_data','mini_emotions_train.pkl')\n",
    "filename_out__mini_emotions_test = path.join('..', '04_processed_data','mini_emotions_test.pkl')\n",
    "filename_out__mini_sequence_test = path.join('..', '04_processed_data','mini_sequence_test.pkl')\n",
    "joblib.dump(mini_images_train, filename_out__mini_images_train)\n",
    "joblib.dump(mini_images_test, filename_out__mini_images_test)\n",
    "joblib.dump(mini_y_train, filename_out__mini_emotions_train)\n",
    "joblib.dump(mini_y_test, filename_out__mini_emotions_test)\n",
    "joblib.dump(mini_sequence_test, filename_out__mini_sequence_test)"
   ]
  },
  {
   "cell_type": "code",
   "execution_count": null,
   "metadata": {
    "collapsed": true
   },
   "outputs": [],
   "source": []
  }
 ],
 "metadata": {
  "kernelspec": {
   "display_name": "Python 3",
   "language": "python",
   "name": "python3"
  },
  "language_info": {
   "codemirror_mode": {
    "name": "ipython",
    "version": 3
   },
   "file_extension": ".py",
   "mimetype": "text/x-python",
   "name": "python",
   "nbconvert_exporter": "python",
   "pygments_lexer": "ipython3",
   "version": "3.6.4"
  }
 },
 "nbformat": 4,
 "nbformat_minor": 2
}
