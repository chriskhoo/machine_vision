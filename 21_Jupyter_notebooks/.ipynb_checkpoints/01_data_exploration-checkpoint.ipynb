{
 "cells": [
  {
   "cell_type": "markdown",
   "metadata": {},
   "source": [
    "# Import dependencies"
   ]
  },
  {
   "cell_type": "code",
   "execution_count": 2,
   "metadata": {
    "collapsed": true
   },
   "outputs": [],
   "source": [
    "# Import libraries\n",
    "import numpy as np\n",
    "from os import path\n",
    "import cv2\n",
    "import matplotlib.pyplot as plt\n",
    "import pandas as pd\n",
    "import glob"
   ]
  },
  {
   "cell_type": "code",
   "execution_count": 3,
   "metadata": {
    "collapsed": true
   },
   "outputs": [],
   "source": [
    "# get current directory\n",
    "dir = path.dirname(path.abspath('__file__'))"
   ]
  },
  {
   "cell_type": "markdown",
   "metadata": {},
   "source": [
    "# Functions to import raw data"
   ]
  },
  {
   "cell_type": "code",
   "execution_count": 4,
   "metadata": {
    "collapsed": true
   },
   "outputs": [],
   "source": [
    "# define function to create dataframe from png files\n",
    "def create_image_dataframe(png_pattern):\n",
    "    # get a list of all file matches\n",
    "    png_files = glob.glob(png_pattern)\n",
    "\n",
    "    # initiate objects\n",
    "    data_df = pd.DataFrame()\n",
    "    image_list = []\n",
    "    image_path_list = []\n",
    "    sequence_list = []\n",
    "    image_number_list = []\n",
    "\n",
    "    # read in files\n",
    "    for image_path in png_files:\n",
    "        # store image path in a list\n",
    "        image_path_list.append(image_path)\n",
    "        \n",
    "        # get file name from file path\n",
    "        image = path.basename(image_path)\n",
    "        image_list.append(image)\n",
    "        \n",
    "        # get sequence number from file name\n",
    "        sequence = image[:8]\n",
    "        sequence_list.append(sequence)\n",
    "        # get image number for each sequence\n",
    "        image_number = int(image[9:-4])\n",
    "        image_number_list.append(image_number)\n",
    "              \n",
    "    # convert lists to Pandas series\n",
    "    image_list = pd.Series(image_list)\n",
    "    image_path_list = pd.Series(image_path_list)\n",
    "    sequence_list = pd.Series(sequence_list)\n",
    "    image_number_list = pd.Series(image_number_list)\n",
    "    \n",
    "    # Join Pandas Series in a data frame\n",
    "    data_df = pd.concat([image_list, image_path_list, sequence_list, image_number_list], axis=1 , ignore_index= True)\n",
    "    data_df.columns = ['image','image_path', 'sequence', 'image_number']\n",
    "    return data_df"
   ]
  },
  {
   "cell_type": "code",
   "execution_count": 5,
   "metadata": {
    "collapsed": true
   },
   "outputs": [],
   "source": [
    "# define function to create a dictionary of emotion labels for sequences\n",
    "def create_sequence_to_emotion_dict(txt_pattern): \n",
    "    # get a list of all file matches\n",
    "    txt_files = glob.glob(txt_pattern)\n",
    "\n",
    "    # initiate empty list\n",
    "    emotion_dict = {}\n",
    "\n",
    "    # read in files\n",
    "    for txt_filepath in txt_files:\n",
    "        # get file name from file path\n",
    "        txt_filename = path.basename(txt_filepath)\n",
    "        # get sequence number from file name\n",
    "        sequence = txt_filename[:8]\n",
    "        # get the emotion category from text file\n",
    "        value = int(eval(open(txt_filepath, 'r').read()))\n",
    "        # store emotion using the sequence as the key in the dictionary\n",
    "        emotion_dict[sequence] = value\n",
    "    return(emotion_dict)"
   ]
  },
  {
   "cell_type": "markdown",
   "metadata": {},
   "source": [
    "# Functions to merge and clean data "
   ]
  },
  {
   "cell_type": "code",
   "execution_count": 6,
   "metadata": {
    "collapsed": true
   },
   "outputs": [],
   "source": [
    "# define function to match emotion labels with the images \n",
    "def label_sequences(data_df, emotion_dict): \n",
    "    data_df['emotion'] = data_df['sequence'].map(emotion_dict)\n",
    "    return data_df"
   ]
  },
  {
   "cell_type": "code",
   "execution_count": 7,
   "metadata": {
    "collapsed": true,
    "scrolled": true
   },
   "outputs": [],
   "source": [
    "# define function clean up dataframe \n",
    "def clean_image_df(data_df):\n",
    "    # Number of images in full dataset \n",
    "    print('Total images: ', str(data_df.shape[0]) )\n",
    "    print('Total sequences: ', str(len(data_df.sequence.unique())) )\n",
    "\n",
    "    # Number of labelled images in full dataset \n",
    "    dropped_df = data_df.dropna(how='any', axis='rows')\n",
    "    print('Labelled images: ', str(dropped_df.shape[0]) )\n",
    "    print('Total labelled sequences: ', str(len(dropped_df.sequence.unique())) )\n",
    "\n",
    "    # Label first 4 images in sequences to be a neutral face\n",
    "    dropped_df.loc[ dropped_df['image_number'] < 5, 'emotion' ] = 0\n",
    "    \n",
    "    # Set emotions as categories \n",
    "    dropped_df['emotion'] = dropped_df['emotion'].astype('int').astype('category')\n",
    "    \n",
    "    # reset index\n",
    "    dropped_df = dropped_df.reset_index(drop=True)\n",
    "    \n",
    "    return dropped_df"
   ]
  },
  {
   "cell_type": "code",
   "execution_count": 8,
   "metadata": {
    "collapsed": true
   },
   "outputs": [],
   "source": [
    "# define function to get CK+ images and labels into a clean dataframe\n",
    "def get_labelled_images(): \n",
    "    # Write patterns for images and emotion labels \n",
    "    png_pattern = '../01_raw_data/CK+/cohn-kanade-images/**/**/*.png'\n",
    "    txt_pattern = '../01_raw_data/CK+/Emotion/**/**/*.txt'\n",
    "\n",
    "    # get images\n",
    "    data_df = create_image_dataframe(png_pattern)\n",
    "    \n",
    "    # get emotion labels\n",
    "    emotion_dict = create_sequence_to_emotion_dict(txt_pattern)\n",
    "    \n",
    "    # label images\n",
    "    labelled_data = label_sequences(data_df, emotion_dict)\n",
    "    \n",
    "    # clean df\n",
    "    clean_df = clean_image_df(labelled_data)\n",
    "    \n",
    "    return clean_df"
   ]
  },
  {
   "cell_type": "markdown",
   "metadata": {},
   "source": [
    "# Execute data extraction and cleaning"
   ]
  },
  {
   "cell_type": "code",
   "execution_count": 9,
   "metadata": {},
   "outputs": [
    {
     "name": "stdout",
     "output_type": "stream",
     "text": [
      "Total images:  10708\n",
      "Total sequences:  593\n",
      "Labelled images:  5876\n",
      "Total labelled sequences:  327\n"
     ]
    },
    {
     "name": "stderr",
     "output_type": "stream",
     "text": [
      "/usr/local/Cellar/python3/3.6.4_2/Frameworks/Python.framework/Versions/3.6/lib/python3.6/site-packages/pandas/core/indexing.py:537: SettingWithCopyWarning: \n",
      "A value is trying to be set on a copy of a slice from a DataFrame.\n",
      "Try using .loc[row_indexer,col_indexer] = value instead\n",
      "\n",
      "See the caveats in the documentation: http://pandas.pydata.org/pandas-docs/stable/indexing.html#indexing-view-versus-copy\n",
      "  self.obj[item] = s\n",
      "/usr/local/Cellar/python3/3.6.4_2/Frameworks/Python.framework/Versions/3.6/lib/python3.6/site-packages/ipykernel_launcher.py:16: SettingWithCopyWarning: \n",
      "A value is trying to be set on a copy of a slice from a DataFrame.\n",
      "Try using .loc[row_indexer,col_indexer] = value instead\n",
      "\n",
      "See the caveats in the documentation: http://pandas.pydata.org/pandas-docs/stable/indexing.html#indexing-view-versus-copy\n",
      "  app.launch_new_instance()\n"
     ]
    }
   ],
   "source": [
    "# execute getting labelled images    \n",
    "clean_df = get_labelled_images()"
   ]
  },
  {
   "cell_type": "markdown",
   "metadata": {},
   "source": [
    "# Exploration of dataset "
   ]
  },
  {
   "cell_type": "code",
   "execution_count": 10,
   "metadata": {},
   "outputs": [
    {
     "name": "stdout",
     "output_type": "stream",
     "text": [
      "Emotion : 0\n",
      "Total images:  1308\n",
      "Total sequences:  327\n",
      "-----------------\n",
      "Emotion : 1\n",
      "Total images:  842\n",
      "Total sequences:  45\n",
      "-----------------\n",
      "Emotion : 2\n",
      "Total images:  161\n",
      "Total sequences:  18\n",
      "-----------------\n",
      "Emotion : 3\n",
      "Total images:  632\n",
      "Total sequences:  59\n",
      "-----------------\n",
      "Emotion : 4\n",
      "Total images:  446\n",
      "Total sequences:  25\n",
      "-----------------\n",
      "Emotion : 5\n",
      "Total images:  1055\n",
      "Total sequences:  69\n",
      "-----------------\n",
      "Emotion : 6\n",
      "Total images:  435\n",
      "Total sequences:  28\n",
      "-----------------\n"
     ]
    }
   ],
   "source": [
    "# explore dataset\n",
    "for emotion in range(0,7):\n",
    "    emotion_df = clean_df[ clean_df['emotion'] == emotion ]\n",
    "    print('Emotion :', str(emotion) )\n",
    "    print('Total images: ', str(emotion_df.shape[0]) )\n",
    "    print('Total sequences: ', str(len(emotion_df.sequence.unique())) )\n",
    "    print('-----------------')"
   ]
  },
  {
   "cell_type": "markdown",
   "metadata": {},
   "source": [
    "## Preview first sequence of images"
   ]
  },
  {
   "cell_type": "code",
   "execution_count": 11,
   "metadata": {
    "scrolled": false
   },
   "outputs": [
    {
     "data": {
      "image/png": "[encoded data removed]",
      "text/plain": [
       "<matplotlib.figure.Figure at 0x112897240>"
      ]
     },
     "metadata": {},
     "output_type": "display_data"
    }
   ],
   "source": [
    "first_sequence = clean_df.loc[ clean_df.sequence == clean_df.iloc[0]['sequence']].sort_values(by='image_number')\n",
    "\n",
    "i = 0\n",
    "for imagePath in first_sequence.image_path:  \n",
    "    image = cv2.imread(imagePath)\n",
    "    i += 1\n",
    "    plt.subplot(3, 5, i)\n",
    "    plt.axis('off')\n",
    "    plt.title(i)\n",
    "    plt.imshow(image)\n",
    "plt.show()"
   ]
  },
  {
   "cell_type": "markdown",
   "metadata": {},
   "source": [
    "The emotions have labels ranging from 0 to 7. (where 0=neutral, 1=anger, 2=contempt, 3=disgust, 4=fear, 5=happy, 6=sadness, 7=surprise). \n",
    "\n",
    "The images show that for the first 4-6 images in this sequence, the facial expression is fairly neutral. It is only later in the sequence ~ 7 to 8 where the expression of disgust becomes more evident. "
   ]
  },
  {
   "cell_type": "code",
   "execution_count": 12,
   "metadata": {},
   "outputs": [
    {
     "data": {
      "text/html": [
       "<div>\n",
       "<style scoped>\n",
       "    .dataframe tbody tr th:only-of-type {\n",
       "        vertical-align: middle;\n",
       "    }\n",
       "\n",
       "    .dataframe tbody tr th {\n",
       "        vertical-align: top;\n",
       "    }\n",
       "\n",
       "    .dataframe thead th {\n",
       "        text-align: right;\n",
       "    }\n",
       "</style>\n",
       "<table border=\"1\" class=\"dataframe\">\n",
       "  <thead>\n",
       "    <tr style=\"text-align: right;\">\n",
       "      <th></th>\n",
       "      <th>image</th>\n",
       "      <th>image_path</th>\n",
       "      <th>sequence</th>\n",
       "      <th>image_number</th>\n",
       "      <th>emotion</th>\n",
       "    </tr>\n",
       "  </thead>\n",
       "  <tbody>\n",
       "    <tr>\n",
       "      <th>10</th>\n",
       "      <td>S111_007_00000001.png</td>\n",
       "      <td>../01_raw_data/CK+/cohn-kanade-images/S111/007...</td>\n",
       "      <td>S111_007</td>\n",
       "      <td>1</td>\n",
       "      <td>0</td>\n",
       "    </tr>\n",
       "    <tr>\n",
       "      <th>12</th>\n",
       "      <td>S111_007_00000002.png</td>\n",
       "      <td>../01_raw_data/CK+/cohn-kanade-images/S111/007...</td>\n",
       "      <td>S111_007</td>\n",
       "      <td>2</td>\n",
       "      <td>0</td>\n",
       "    </tr>\n",
       "    <tr>\n",
       "      <th>13</th>\n",
       "      <td>S111_007_00000003.png</td>\n",
       "      <td>../01_raw_data/CK+/cohn-kanade-images/S111/007...</td>\n",
       "      <td>S111_007</td>\n",
       "      <td>3</td>\n",
       "      <td>0</td>\n",
       "    </tr>\n",
       "    <tr>\n",
       "      <th>6</th>\n",
       "      <td>S111_007_00000004.png</td>\n",
       "      <td>../01_raw_data/CK+/cohn-kanade-images/S111/007...</td>\n",
       "      <td>S111_007</td>\n",
       "      <td>4</td>\n",
       "      <td>0</td>\n",
       "    </tr>\n",
       "    <tr>\n",
       "      <th>9</th>\n",
       "      <td>S111_007_00000005.png</td>\n",
       "      <td>../01_raw_data/CK+/cohn-kanade-images/S111/007...</td>\n",
       "      <td>S111_007</td>\n",
       "      <td>5</td>\n",
       "      <td>3</td>\n",
       "    </tr>\n",
       "    <tr>\n",
       "      <th>4</th>\n",
       "      <td>S111_007_00000006.png</td>\n",
       "      <td>../01_raw_data/CK+/cohn-kanade-images/S111/007...</td>\n",
       "      <td>S111_007</td>\n",
       "      <td>6</td>\n",
       "      <td>3</td>\n",
       "    </tr>\n",
       "    <tr>\n",
       "      <th>3</th>\n",
       "      <td>S111_007_00000007.png</td>\n",
       "      <td>../01_raw_data/CK+/cohn-kanade-images/S111/007...</td>\n",
       "      <td>S111_007</td>\n",
       "      <td>7</td>\n",
       "      <td>3</td>\n",
       "    </tr>\n",
       "    <tr>\n",
       "      <th>0</th>\n",
       "      <td>S111_007_00000008.png</td>\n",
       "      <td>../01_raw_data/CK+/cohn-kanade-images/S111/007...</td>\n",
       "      <td>S111_007</td>\n",
       "      <td>8</td>\n",
       "      <td>3</td>\n",
       "    </tr>\n",
       "    <tr>\n",
       "      <th>1</th>\n",
       "      <td>S111_007_00000009.png</td>\n",
       "      <td>../01_raw_data/CK+/cohn-kanade-images/S111/007...</td>\n",
       "      <td>S111_007</td>\n",
       "      <td>9</td>\n",
       "      <td>3</td>\n",
       "    </tr>\n",
       "    <tr>\n",
       "      <th>7</th>\n",
       "      <td>S111_007_00000010.png</td>\n",
       "      <td>../01_raw_data/CK+/cohn-kanade-images/S111/007...</td>\n",
       "      <td>S111_007</td>\n",
       "      <td>10</td>\n",
       "      <td>3</td>\n",
       "    </tr>\n",
       "    <tr>\n",
       "      <th>8</th>\n",
       "      <td>S111_007_00000011.png</td>\n",
       "      <td>../01_raw_data/CK+/cohn-kanade-images/S111/007...</td>\n",
       "      <td>S111_007</td>\n",
       "      <td>11</td>\n",
       "      <td>3</td>\n",
       "    </tr>\n",
       "    <tr>\n",
       "      <th>5</th>\n",
       "      <td>S111_007_00000012.png</td>\n",
       "      <td>../01_raw_data/CK+/cohn-kanade-images/S111/007...</td>\n",
       "      <td>S111_007</td>\n",
       "      <td>12</td>\n",
       "      <td>3</td>\n",
       "    </tr>\n",
       "    <tr>\n",
       "      <th>2</th>\n",
       "      <td>S111_007_00000013.png</td>\n",
       "      <td>../01_raw_data/CK+/cohn-kanade-images/S111/007...</td>\n",
       "      <td>S111_007</td>\n",
       "      <td>13</td>\n",
       "      <td>3</td>\n",
       "    </tr>\n",
       "    <tr>\n",
       "      <th>11</th>\n",
       "      <td>S111_007_00000014.png</td>\n",
       "      <td>../01_raw_data/CK+/cohn-kanade-images/S111/007...</td>\n",
       "      <td>S111_007</td>\n",
       "      <td>14</td>\n",
       "      <td>3</td>\n",
       "    </tr>\n",
       "  </tbody>\n",
       "</table>\n",
       "</div>"
      ],
      "text/plain": [
       "                    image                                         image_path  \\\n",
       "10  S111_007_00000001.png  ../01_raw_data/CK+/cohn-kanade-images/S111/007...   \n",
       "12  S111_007_00000002.png  ../01_raw_data/CK+/cohn-kanade-images/S111/007...   \n",
       "13  S111_007_00000003.png  ../01_raw_data/CK+/cohn-kanade-images/S111/007...   \n",
       "6   S111_007_00000004.png  ../01_raw_data/CK+/cohn-kanade-images/S111/007...   \n",
       "9   S111_007_00000005.png  ../01_raw_data/CK+/cohn-kanade-images/S111/007...   \n",
       "4   S111_007_00000006.png  ../01_raw_data/CK+/cohn-kanade-images/S111/007...   \n",
       "3   S111_007_00000007.png  ../01_raw_data/CK+/cohn-kanade-images/S111/007...   \n",
       "0   S111_007_00000008.png  ../01_raw_data/CK+/cohn-kanade-images/S111/007...   \n",
       "1   S111_007_00000009.png  ../01_raw_data/CK+/cohn-kanade-images/S111/007...   \n",
       "7   S111_007_00000010.png  ../01_raw_data/CK+/cohn-kanade-images/S111/007...   \n",
       "8   S111_007_00000011.png  ../01_raw_data/CK+/cohn-kanade-images/S111/007...   \n",
       "5   S111_007_00000012.png  ../01_raw_data/CK+/cohn-kanade-images/S111/007...   \n",
       "2   S111_007_00000013.png  ../01_raw_data/CK+/cohn-kanade-images/S111/007...   \n",
       "11  S111_007_00000014.png  ../01_raw_data/CK+/cohn-kanade-images/S111/007...   \n",
       "\n",
       "    sequence  image_number emotion  \n",
       "10  S111_007             1       0  \n",
       "12  S111_007             2       0  \n",
       "13  S111_007             3       0  \n",
       "6   S111_007             4       0  \n",
       "9   S111_007             5       3  \n",
       "4   S111_007             6       3  \n",
       "3   S111_007             7       3  \n",
       "0   S111_007             8       3  \n",
       "1   S111_007             9       3  \n",
       "7   S111_007            10       3  \n",
       "8   S111_007            11       3  \n",
       "5   S111_007            12       3  \n",
       "2   S111_007            13       3  \n",
       "11  S111_007            14       3  "
      ]
     },
     "execution_count": 12,
     "metadata": {},
     "output_type": "execute_result"
    }
   ],
   "source": [
    "first_sequence"
   ]
  },
  {
   "cell_type": "markdown",
   "metadata": {},
   "source": [
    "# Save dataframe"
   ]
  },
  {
   "cell_type": "code",
   "execution_count": 13,
   "metadata": {},
   "outputs": [],
   "source": [
    "# Save df into a csv \n",
    "filename_out = path.join(dir, '..' ,'04_processed_data','labelled_images.csv')\n",
    "clean_df.to_csv(filename_out, index=False )"
   ]
  },
  {
   "cell_type": "markdown",
   "metadata": {},
   "source": [
    "## Verify saved df"
   ]
  },
  {
   "cell_type": "code",
   "execution_count": 14,
   "metadata": {
    "collapsed": true
   },
   "outputs": [],
   "source": [
    "# Load df from a csv (approx 5 mins)\n",
    "loaded_df = pd.read_csv(filename_out, index_col = False)\n",
    "loaded_df['emotion'] = loaded_df['emotion'].astype('category')"
   ]
  },
  {
   "cell_type": "code",
   "execution_count": 15,
   "metadata": {},
   "outputs": [],
   "source": [
    "from pandas.util.testing import assert_frame_equal\n",
    "assert_frame_equal(clean_df, loaded_df, check_dtype=False, check_column_type = False)"
   ]
  }
 ],
 "metadata": {
  "kernelspec": {
   "display_name": "Python 3",
   "language": "python",
   "name": "python3"
  },
  "language_info": {
   "codemirror_mode": {
    "name": "ipython",
    "version": 3
   },
   "file_extension": ".py",
   "mimetype": "text/x-python",
   "name": "python",
   "nbconvert_exporter": "python",
   "pygments_lexer": "ipython3",
   "version": "3.6.4"
  }
 },
 "nbformat": 4,
 "nbformat_minor": 2
}
