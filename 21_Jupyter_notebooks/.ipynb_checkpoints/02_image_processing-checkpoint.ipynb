{
 "cells": [
  {
   "cell_type": "markdown",
   "metadata": {},
   "source": [
    "# Import dependencies and determine working directory"
   ]
  },
  {
   "cell_type": "code",
   "execution_count": 1,
   "metadata": {
    "collapsed": true
   },
   "outputs": [],
   "source": [
    "# Import libraries\n",
    "import numpy as np\n",
    "from os import path\n",
    "import cv2\n",
    "import matplotlib.pyplot as plt\n",
    "import math\n",
    "import pandas as pd"
   ]
  },
  {
   "cell_type": "code",
   "execution_count": 2,
   "metadata": {
    "collapsed": true
   },
   "outputs": [],
   "source": [
    "# get current directory\n",
    "dir = path.dirname(path.abspath('__file__'))"
   ]
  },
  {
   "cell_type": "markdown",
   "metadata": {},
   "source": [
    "# Define functions to process images"
   ]
  },
  {
   "cell_type": "markdown",
   "metadata": {},
   "source": [
    "## Create classifiers"
   ]
  },
  {
   "cell_type": "code",
   "execution_count": 3,
   "metadata": {
    "collapsed": true
   },
   "outputs": [],
   "source": [
    "# load cascade classifiers https://github.com/opencv/opencv/tree/master/data/haarcascades\n",
    "def load_classifiers(): \n",
    "    face_cascade_path = path.join(dir,'..','02_pretrained_models', 'haarcascade_frontalface_default.xml')\n",
    "    left_eye_cascade_path = path.join(dir,'..','02_pretrained_models', 'haarcascade_lefteye_2splits.xml')\n",
    "    right_eye_cascade_path = path.join(dir,'..','02_pretrained_models', 'haarcascade_righteye_2splits.xml')\n",
    "\n",
    "    face_cascade = cv2.CascadeClassifier(face_cascade_path)\n",
    "    left_eye_cascade = cv2.CascadeClassifier(left_eye_cascade_path)\n",
    "    right_eye_cascade = cv2.CascadeClassifier(right_eye_cascade_path)\n",
    "    \n",
    "    return face_cascade, left_eye_cascade, right_eye_cascade"
   ]
  },
  {
   "cell_type": "markdown",
   "metadata": {},
   "source": [
    "## Create colour conversion functions"
   ]
  },
  {
   "cell_type": "code",
   "execution_count": 4,
   "metadata": {
    "collapsed": true
   },
   "outputs": [],
   "source": [
    "# Convert image to colour\n",
    "def convertToRGB(img): \n",
    "    return cv2.cvtColor(img, cv2.COLOR_BGR2RGB)\n",
    "\n",
    "# Convert image to greyscale\n",
    "def convertToGray(img): \n",
    "    return cv2.cvtColor(img, cv2.COLOR_BGR2GRAY)"
   ]
  },
  {
   "cell_type": "markdown",
   "metadata": {},
   "source": [
    "## Identify head"
   ]
  },
  {
   "cell_type": "code",
   "execution_count": 5,
   "metadata": {
    "collapsed": true
   },
   "outputs": [],
   "source": [
    "def identify_head(imagePath, face_cascade):\n",
    "    # Read the image\n",
    "    image = cv2.imread(imagePath)\n",
    "\n",
    "    # Convert to gray\n",
    "    gray = convertToGray(image)\n",
    "    \n",
    "    # detect face\n",
    "    faces = face_cascade.detectMultiScale(\n",
    "        gray,\n",
    "        scaleFactor= 1.1,\n",
    "        minNeighbors=5,\n",
    "        flags = cv2.CASCADE_SCALE_IMAGE\n",
    "    )\n",
    "    \n",
    "#     # draw a rectangle around the face\n",
    "#     for (x, y, w, h) in faces:\n",
    "#         cv2.rectangle(image, (x, y), (x+w, y+h), (0, 255, 0), 2)\n",
    "    \n",
    "#     # show image \n",
    "#     plt.imshow(convertToRGB(image))\n",
    "#     plt.show()\n",
    "    # extract the face \n",
    "    (x, y, w, h) = faces[0]\n",
    "    head = image[y:y + h, x:x + w]\n",
    "    \n",
    "    return head"
   ]
  },
  {
   "cell_type": "markdown",
   "metadata": {},
   "source": [
    "## Center face, adjust tilt and resize image"
   ]
  },
  {
   "cell_type": "code",
   "execution_count": 6,
   "metadata": {
    "collapsed": true
   },
   "outputs": [],
   "source": [
    "def process_face(head, left_eye_cascade, right_eye_cascade):\n",
    "    # define search areas \n",
    "    head_height, head_width = head.shape[:2]\n",
    "    top_eye_edge = math.floor(0.1*head_height)\n",
    "    bottom_eye_edge = math.floor(0.6*head_height)\n",
    "    left_eye_edge = math.floor(0.1*head_width)\n",
    "    center_edge = math.floor(0.5*head_width)\n",
    "    right_eye_edge = math.floor(0.9*head_width)\n",
    "    left_eye_area = head[top_eye_edge:bottom_eye_edge, left_eye_edge:center_edge]\n",
    "    right_eye_area = head[top_eye_edge:bottom_eye_edge, center_edge:right_eye_edge]\n",
    "    \n",
    "    # define fixed parameters for scaling \n",
    "    desired_left_eye = (0.3, 0.3)\n",
    "    desired_face_width = 128\n",
    "    desired_face_height = desired_face_width\n",
    "    \n",
    "    # Instantiate variables\n",
    "    left_eye_middle = None\n",
    "    right_eye_middle = None\n",
    "    \n",
    "    # Locate eyes\n",
    "    left_eye = left_eye_cascade.detectMultiScale(left_eye_area, scaleFactor=1.1, minNeighbors=2)\n",
    "    right_eye = right_eye_cascade.detectMultiScale(right_eye_area, scaleFactor=1.1, minNeighbors=2)\n",
    "    \n",
    "    # Find the middle of the left and right eyes\n",
    "    if left_eye is () or right_eye is ():\n",
    "        return  cv2.resize(head, (desired_face_width, desired_face_height)) \n",
    "    else: \n",
    "        for (x_left, y_left, w_left, h_left) in left_eye:\n",
    "            left_eye_middle = np.array([ left_eye_edge + x_left + w_left / 2, top_eye_edge + y_left + h_left / 2])\n",
    "\n",
    "        for (x_right, y_right, w_right, h_right) in right_eye:\n",
    "            right_eye_middle = np.array([center_edge + x_right + w_right / 2, top_eye_edge + y_right + h_right / 2])\n",
    "            \n",
    "        # Find the middle point between the eyes\n",
    "        eye_middle = (left_eye_middle + right_eye_middle) / 2\n",
    "\n",
    "        # Find the angle of the eye line \n",
    "        eye_angle_rad = np.arctan2(right_eye_middle[1] - left_eye_middle[1], right_eye_middle[0] - left_eye_middle[0]) \n",
    "        eye_angle_deg = eye_angle_rad * 180.0 / math.pi\n",
    "        \n",
    "        # Find the scaling factor\n",
    "        face_scale_factor = (1.0 - desired_left_eye[0] * 2) * desired_face_width / np.linalg.norm(right_eye_middle - left_eye_middle)\n",
    "        \n",
    "        # Set up rotation and scaling matrix \n",
    "        transformation_mat = cv2.getRotationMatrix2D(tuple(eye_middle), eye_angle_deg, face_scale_factor)\n",
    "\n",
    "        # Center matrix around the center of the eyes\n",
    "        transformation_mat[0,2] += desired_face_width * 0.5 - eye_middle[0]\n",
    "        transformation_mat[1,2] += desired_left_eye[1] * desired_face_height - eye_middle[1]\n",
    "        \n",
    "        # Adjust image\n",
    "        adjusted_face = cv2.warpAffine(head, transformation_mat, (desired_face_width, desired_face_height))\n",
    "        \n",
    "        return adjusted_face"
   ]
  },
  {
   "cell_type": "code",
   "execution_count": 7,
   "metadata": {
    "collapsed": true
   },
   "outputs": [],
   "source": [
    "def process_image(inputPath, outputPath):\n",
    "    face_cascade, left_eye_cascade, right_eye_cascade = load_classifiers()\n",
    "    head = identify_head(inputPath, face_cascade)\n",
    "    adjusted_face = process_face(head, left_eye_cascade, right_eye_cascade)\n",
    "    cv2.imwrite(outputPath, convertToGray(adjusted_face) )\n",
    "#     plt.imshow(convertToRGB(adjusted_face))\n",
    "#     plt.show()"
   ]
  },
  {
   "cell_type": "markdown",
   "metadata": {},
   "source": [
    "# Run function to process image"
   ]
  },
  {
   "cell_type": "code",
   "execution_count": 8,
   "metadata": {
    "collapsed": true
   },
   "outputs": [],
   "source": [
    "# get image path\n",
    "# image_path = path.join(dir,'..','01_raw_data', 'CelebA', 'Img', 'img_celeba.7z', 'img_celeba', '000140.jpg')\n",
    "# image_path = path.join(dir,'..','01_raw_data', 'jaffe', 'KA.AN1.39.tiff')\n",
    "image_path = path.join(dir,'..','01_raw_data', 'Portraits', 'image_12.png')\n",
    "\n",
    "output_path = path.join(dir,'..','03_processed_images', 'sample', 'image_01.jpg')"
   ]
  },
  {
   "cell_type": "code",
   "execution_count": 9,
   "metadata": {},
   "outputs": [
    {
     "data": {
      "image/png": "[encoded data removed]",
      "text/plain": [
       "<matplotlib.figure.Figure at 0x112e2e780>"
      ]
     },
     "metadata": {},
     "output_type": "display_data"
    }
   ],
   "source": [
    "process_image(image_path, output_path)"
   ]
  },
  {
   "cell_type": "markdown",
   "metadata": {},
   "source": [
    "# Load cleaned dataframe for input data"
   ]
  },
  {
   "cell_type": "code",
   "execution_count": 8,
   "metadata": {
    "collapsed": true
   },
   "outputs": [],
   "source": [
    "# Load df from a csv \n",
    "clean_data_csv_path = path.join(dir, '..' ,'04_processed_data','labelled_images.csv')\n",
    "clean_df = pd.read_csv(clean_data_csv_path, index_col = False)\n",
    "clean_df['emotion'] = clean_df['emotion'].astype('category')"
   ]
  },
  {
   "cell_type": "markdown",
   "metadata": {},
   "source": [
    "# Process all images for training and test set "
   ]
  },
  {
   "cell_type": "code",
   "execution_count": 9,
   "metadata": {
    "collapsed": true
   },
   "outputs": [],
   "source": [
    "for index, row in clean_df.iterrows():\n",
    "    image_path = row.image_path\n",
    "    output_path = path.join(dir,'..','03_processed_images', 'CK+', row.image)\n",
    "    process_image(image_path, output_path)"
   ]
  },
  {
   "cell_type": "markdown",
   "metadata": {},
   "source": [
    "# Store path of processed image in the dataframe"
   ]
  },
  {
   "cell_type": "code",
   "execution_count": 10,
   "metadata": {
    "collapsed": true
   },
   "outputs": [],
   "source": [
    "def add_processed_image_path(df, processed_image_csv_path):\n",
    "    processed_image_path_list = []\n",
    "    \n",
    "    for index, row in df.iterrows():\n",
    "        # get and append processed image path\n",
    "        output_path = path.join('..','03_processed_images', 'CK+', row.image)\n",
    "        processed_image_path_list.append(output_path)\n",
    "              \n",
    "    # convert lists to Pandas series\n",
    "    processed_image_path_list = pd.Series(processed_image_path_list)\n",
    "    \n",
    "    # Join Pandas Series in a data frame\n",
    "    df['processed_image_path'] = processed_image_path_list\n",
    "    \n",
    "    # Save df into a csv \n",
    "    df.to_csv(processed_image_csv_path, index=False )\n",
    "    \n",
    "    return df"
   ]
  },
  {
   "cell_type": "code",
   "execution_count": 11,
   "metadata": {
    "collapsed": true
   },
   "outputs": [],
   "source": [
    "# execute addition of processed image path \n",
    "processed_image_csv_path = path.join('..' ,'04_processed_data','processed_images.csv')\n",
    "processed_df = add_processed_image_path(clean_df, processed_image_csv_path)"
   ]
  },
  {
   "cell_type": "markdown",
   "metadata": {},
   "source": [
    "## Verify save"
   ]
  },
  {
   "cell_type": "code",
   "execution_count": 12,
   "metadata": {
    "collapsed": true
   },
   "outputs": [],
   "source": [
    "# Load df from a csv \n",
    "loaded_df = pd.read_csv(processed_image_csv_path, index_col = False)\n",
    "loaded_df['emotion'] = loaded_df['emotion'].astype('category')"
   ]
  },
  {
   "cell_type": "code",
   "execution_count": 13,
   "metadata": {
    "collapsed": true
   },
   "outputs": [],
   "source": [
    "# test equality of dataframes\n",
    "from pandas.util.testing import assert_frame_equal\n",
    "assert_frame_equal(clean_df, loaded_df)"
   ]
  },
  {
   "cell_type": "code",
   "execution_count": null,
   "metadata": {
    "collapsed": true
   },
   "outputs": [],
   "source": []
  }
 ],
 "metadata": {
  "kernelspec": {
   "display_name": "Python 3",
   "language": "python",
   "name": "python3"
  },
  "language_info": {
   "codemirror_mode": {
    "name": "ipython",
    "version": 3
   },
   "file_extension": ".py",
   "mimetype": "text/x-python",
   "name": "python",
   "nbconvert_exporter": "python",
   "pygments_lexer": "ipython3",
   "version": "3.6.4"
  }
 },
 "nbformat": 4,
 "nbformat_minor": 2
}
