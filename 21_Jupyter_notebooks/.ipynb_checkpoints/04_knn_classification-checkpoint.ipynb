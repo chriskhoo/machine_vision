{
 "cells": [
  {
   "cell_type": "markdown",
   "metadata": {},
   "source": [
    "# Import dependencies and determine working directory"
   ]
  },
  {
   "cell_type": "code",
   "execution_count": 1,
   "metadata": {
    "collapsed": true
   },
   "outputs": [],
   "source": [
    "# Import libraries\n",
    "import numpy as np\n",
    "from os import path\n",
    "from sklearn.externals import joblib\n",
    "from sklearn.neighbors import KNeighborsClassifier\n",
    "from sklearn import metrics"
   ]
  },
  {
   "cell_type": "markdown",
   "metadata": {},
   "source": [
    "# Load training data"
   ]
  },
  {
   "cell_type": "code",
   "execution_count": 2,
   "metadata": {
    "collapsed": true
   },
   "outputs": [],
   "source": [
    "# Load data from pickled file \n",
    "filename_in__images_train = path.join('..', '04_processed_data','images_train.pkl')\n",
    "filename_in__emotions_train = path.join('..', '04_processed_data','emotions_train.pkl')\n",
    "\n",
    "X_train = joblib.load(filename_in__images_train)\n",
    "y_train = joblib.load(filename_in__emotions_train)"
   ]
  },
  {
   "cell_type": "code",
   "execution_count": 3,
   "metadata": {
    "collapsed": true
   },
   "outputs": [],
   "source": [
    "filename_in__images_test = path.join('..', '04_processed_data','images_test.pkl')\n",
    "filename_in__emotions_test = path.join('..', '04_processed_data','emotions_test.pkl')\n",
    "\n",
    "X_test = joblib.load(filename_in__images_test)\n",
    "y_test = joblib.load(filename_in__emotions_test)"
   ]
  },
  {
   "cell_type": "markdown",
   "metadata": {
    "collapsed": true
   },
   "source": [
    "# Build a KNN model"
   ]
  },
  {
   "cell_type": "code",
   "execution_count": 6,
   "metadata": {},
   "outputs": [
    {
     "name": "stdout",
     "output_type": "stream",
     "text": [
      "Model raw pixels...\n",
      "Raw pixel training accuracy: 83.59%\n",
      "For the confusion matrix, rows correspond to actual ratings and the columns correspond to predicted ratings.\n",
      "[[1025   37   21   20   11   31   20   11]\n",
      " [  90  631    1    4    4    4    5    0]\n",
      " [  15    1  133    0    0    0    2    0]\n",
      " [ 122   24    2  406    4    6    3    1]\n",
      " [  49    2    0    0  358    3    1    0]\n",
      " [ 120    4    1    5    0  818    0    1]\n",
      " [  62   17    0    5    2    0  292    0]\n",
      " [ 123    5    0    5    4   10   11  765]]\n"
     ]
    }
   ],
   "source": [
    "# train and evaluate a k-NN classifer on the raw pixel intensities\n",
    "print(\"Model raw pixels...\")\n",
    "model = KNeighborsClassifier(n_neighbors=8)\n",
    "model.fit(X_train, y_train)\n",
    "\n",
    "# Predict training values\n",
    "train_prediction = model.predict(X_train)\n",
    "# Compute training accuracy\n",
    "accuracy = metrics.accuracy_score(y_train, train_prediction)\n",
    "print(\"Raw pixel training accuracy: {:.2f}%\".format(accuracy * 100))\n",
    "# Calculate and print the confusion matrix\n",
    "cm = metrics.confusion_matrix(y_train, train_prediction, labels=[0,1,2,3,4,5,6,7])\n",
    "print('For the confusion matrix, rows correspond to actual ratings and the columns correspond to predicted ratings.')\n",
    "print(cm)"
   ]
  },
  {
   "cell_type": "markdown",
   "metadata": {},
   "source": [
    "# Evaluate KNN model"
   ]
  },
  {
   "cell_type": "code",
   "execution_count": 7,
   "metadata": {},
   "outputs": [
    {
     "name": "stdout",
     "output_type": "stream",
     "text": [
      "Raw pixel training accuracy: 22.97%\n",
      "For the confusion matrix, rows correspond to actual ratings and the columns correspond to predicted ratings.\n",
      "[[111   8   4   0   2   1   4   2]\n",
      " [ 61   5   4   5   7   4  17   0]\n",
      " [  5   3   0   0   2   0   0   0]\n",
      " [ 35   2   3   1   2  21   0   0]\n",
      " [ 23   0   0   0   0   0   0  10]\n",
      " [ 76   2   0  17   0   3   5   3]\n",
      " [ 33  10   7   2   0   0   0   5]\n",
      " [ 45   2   0  10   2   2   0  13]]\n"
     ]
    }
   ],
   "source": [
    "# Predict test values\n",
    "test_prediction = model.predict(X_test)\n",
    "# Compute test accuracy\n",
    "accuracy = metrics.accuracy_score(y_test, test_prediction)\n",
    "print(\"Raw pixel training accuracy: {:.2f}%\".format(accuracy * 100))\n",
    "# Calculate and print the confusion matrix\n",
    "cm = metrics.confusion_matrix(y_test, test_prediction, labels=[0,1,2,3,4,5,6,7])\n",
    "print('For the confusion matrix, rows correspond to actual ratings and the columns correspond to predicted ratings.')\n",
    "print(cm)"
   ]
  }
 ],
 "metadata": {
  "kernelspec": {
   "display_name": "Python 3",
   "language": "python",
   "name": "python3"
  },
  "language_info": {
   "codemirror_mode": {
    "name": "ipython",
    "version": 3
   },
   "file_extension": ".py",
   "mimetype": "text/x-python",
   "name": "python",
   "nbconvert_exporter": "python",
   "pygments_lexer": "ipython3",
   "version": "3.6.4"
  }
 },
 "nbformat": 4,
 "nbformat_minor": 2
}
