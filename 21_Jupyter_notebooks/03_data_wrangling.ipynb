{
 "cells": [
  {
   "cell_type": "markdown",
   "metadata": {},
   "source": [
    "# Import dependencies and determine working directory"
   ]
  },
  {
   "cell_type": "code",
   "execution_count": null,
   "metadata": {
    "collapsed": true
   },
   "outputs": [],
   "source": [
    "# Import libraries\n",
    "import numpy as np\n",
    "from os import path\n",
    "import cv2\n",
    "import pandas as pd\n",
    "from sklearn.model_selection import train_test_split\n",
    "from sklearn.externals import joblib"
   ]
  },
  {
   "cell_type": "code",
   "execution_count": 2,
   "metadata": {
    "collapsed": true
   },
   "outputs": [],
   "source": [
    "# get current directory\n",
    "dir = path.dirname(path.abspath('__file__'))"
   ]
  },
  {
   "cell_type": "markdown",
   "metadata": {},
   "source": [
    "# Load processed dataframe"
   ]
  },
  {
   "cell_type": "code",
   "execution_count": 3,
   "metadata": {
    "collapsed": true
   },
   "outputs": [],
   "source": [
    "# Load df from a csv\n",
    "processed_image_csv_path = path.join('..' ,'04_processed_data','processed_images.csv')\n",
    "df = pd.read_csv(processed_image_csv_path, index_col = False)\n",
    "df['emotion'] = df['emotion'].astype('category')"
   ]
  },
  {
   "cell_type": "markdown",
   "metadata": {
    "collapsed": true
   },
   "source": [
    "# Split train and test data"
   ]
  },
  {
   "cell_type": "code",
   "execution_count": 4,
   "metadata": {
    "collapsed": true
   },
   "outputs": [],
   "source": [
    "unique_sequences = df[df.image_number > 4].drop_duplicates(subset=['sequence'])"
   ]
  },
  {
   "cell_type": "code",
   "execution_count": 5,
   "metadata": {
    "collapsed": true
   },
   "outputs": [],
   "source": [
    "# Split train and test data by sequences instead of images\n",
    "sequence_train, sequence_test, _ , _ = train_test_split(unique_sequences.sequence, unique_sequences.emotion, test_size = 0.1, random_state = 42)"
   ]
  },
  {
   "cell_type": "code",
   "execution_count": 6,
   "metadata": {
    "collapsed": true
   },
   "outputs": [],
   "source": [
    "# Filter dataframe into test and train\n",
    "df_train = df[df.sequence.isin(sequence_train)]\n",
    "df_test = df[df.sequence.isin(sequence_test)]"
   ]
  },
  {
   "cell_type": "code",
   "execution_count": 7,
   "metadata": {},
   "outputs": [
    {
     "name": "stdout",
     "output_type": "stream",
     "text": [
      "Number of images in training set: 5297\n",
      "0    1176\n",
      "5     949\n",
      "7     923\n",
      "1     739\n",
      "3     568\n",
      "4     413\n",
      "6     378\n",
      "2     151\n",
      "Name: emotion, dtype: int64\n",
      "Number of images in test set: 579\n",
      "0    132\n",
      "5    106\n",
      "1    103\n",
      "7     74\n",
      "3     64\n",
      "6     57\n",
      "4     33\n",
      "2     10\n",
      "Name: emotion, dtype: int64\n"
     ]
    }
   ],
   "source": [
    "# Split info into test and train series\n",
    "X_train = df_train.processed_image_path\n",
    "X_test = df_test.processed_image_path\n",
    "y_train = df_train.emotion\n",
    "y_test = df_test.emotion\n",
    "print('Number of images in training set:', len(X_train) )\n",
    "print(y_train.value_counts())\n",
    "print('Number of images in test set:', len(X_test) )\n",
    "print(y_test.value_counts())"
   ]
  },
  {
   "cell_type": "markdown",
   "metadata": {},
   "source": [
    "# Import and flatten image data "
   ]
  },
  {
   "cell_type": "code",
   "execution_count": 8,
   "metadata": {
    "collapsed": true
   },
   "outputs": [],
   "source": [
    "def flattened_image_data(image_paths):\n",
    "    images_data = []\n",
    "    for image_path in image_paths:\n",
    "        image = cv2.cvtColor(cv2.imread(image_path), cv2.COLOR_BGR2GRAY).flatten()\n",
    "        images_data.append(image)\n",
    "    images_data = np.array(images_data).astype(np.uint8)\n",
    "    print(images_data.shape)\n",
    "    return images_data"
   ]
  },
  {
   "cell_type": "code",
   "execution_count": 9,
   "metadata": {},
   "outputs": [
    {
     "name": "stdout",
     "output_type": "stream",
     "text": [
      "(5297, 16384)\n",
      "(579, 16384)\n"
     ]
    }
   ],
   "source": [
    "images_train = flattened_image_data(X_train)\n",
    "images_test = flattened_image_data(X_test)"
   ]
  },
  {
   "cell_type": "markdown",
   "metadata": {},
   "source": [
    "# Save data files"
   ]
  },
  {
   "cell_type": "code",
   "execution_count": 10,
   "metadata": {},
   "outputs": [
    {
     "data": {
      "text/plain": [
       "['../04_processed_data/emotions_test.pkl']"
      ]
     },
     "execution_count": 10,
     "metadata": {},
     "output_type": "execute_result"
    }
   ],
   "source": [
    "# Save training and test data  \n",
    "filename_out__images_train = path.join('..', '04_processed_data','images_train.pkl')\n",
    "filename_out__images_test = path.join('..', '04_processed_data','images_test.pkl')\n",
    "filename_out__emotions_train = path.join('..', '04_processed_data','emotions_train.pkl')\n",
    "filename_out__emotions_test = path.join('..', '04_processed_data','emotions_test.pkl')\n",
    "joblib.dump(images_train, filename_out__images_train)\n",
    "joblib.dump(images_test, filename_out__images_test)\n",
    "joblib.dump(y_train, filename_out__emotions_train)\n",
    "joblib.dump(y_test, filename_out__emotions_test)"
   ]
  }
 ],
 "metadata": {
  "kernelspec": {
   "display_name": "Python 3",
   "language": "python",
   "name": "python3"
  },
  "language_info": {
   "codemirror_mode": {
    "name": "ipython",
    "version": 3
   },
   "file_extension": ".py",
   "mimetype": "text/x-python",
   "name": "python",
   "nbconvert_exporter": "python",
   "pygments_lexer": "ipython3",
   "version": "3.6.4"
  }
 },
 "nbformat": 4,
 "nbformat_minor": 2
}
